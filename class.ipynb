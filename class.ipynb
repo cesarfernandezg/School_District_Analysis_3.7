{
 "cells": [
  {
   "cell_type": "code",
   "execution_count": 1,
   "id": "d38aa943",
   "metadata": {},
   "outputs": [],
   "source": [
    "class Cat:\n",
    "    def __init__(self, name):\n",
    "        self.name = name"
   ]
  },
  {
   "cell_type": "markdown",
   "id": "126b8baa",
   "metadata": {},
   "source": [
    "In this example, the keyword class is used to create a class. Then, the __init__ method is a special method called a \"class constructor\" that Python calls every time a new instance of the class is created. This method takes two arguments: self and name. The self argument refers to a specific Cat object that is created when this method is called. The second argument, name, will be specified each time a new Cat object is created. Let's look at how to do this."
   ]
  },
  {
   "cell_type": "code",
   "execution_count": 2,
   "id": "05ecb28e",
   "metadata": {},
   "outputs": [
    {
     "name": "stdout",
     "output_type": "stream",
     "text": [
      "Felix\n"
     ]
    }
   ],
   "source": [
    "first_cat = Cat('Felix')\n",
    "print(first_cat.name)"
   ]
  },
  {
   "cell_type": "code",
   "execution_count": 3,
   "id": "d5808dae",
   "metadata": {},
   "outputs": [
    {
     "name": "stdout",
     "output_type": "stream",
     "text": [
      "Garflied\n"
     ]
    }
   ],
   "source": [
    "second_cat = Cat('Garflied')\n",
    "print(second_cat.name)"
   ]
  },
  {
   "cell_type": "markdown",
   "id": "de437a6b",
   "metadata": {},
   "source": [
    "In OOP, an object can have attributes, such as name in the example above. It can also perform actions through functions. Let's now create a Dog class."
   ]
  },
  {
   "cell_type": "code",
   "execution_count": 4,
   "id": "6a4b616e",
   "metadata": {},
   "outputs": [],
   "source": [
    "class Dog:\n",
    "    def __init__(self, name, color, sound):\n",
    "        self.name = name\n",
    "        self.color = color\n",
    "        self.sound = sound\n",
    "\n",
    "    def bark(self):\n",
    "        return self.sound + ' ' + self.sound"
   ]
  },
  {
   "cell_type": "markdown",
   "id": "3fc4ea8d",
   "metadata": {},
   "source": [
    "This class contains three attributes: name, color, and sound. It also contains a method, or a function that is associated with an object. This means that an object created from this Dog class can now perform an action through the bark method. Let's instantiate an object."
   ]
  },
  {
   "cell_type": "code",
   "execution_count": 6,
   "id": "00d567d0",
   "metadata": {},
   "outputs": [
    {
     "name": "stdout",
     "output_type": "stream",
     "text": [
      "Fido\n",
      "brown\n"
     ]
    },
    {
     "data": {
      "text/plain": [
       "'woof! woof!'"
      ]
     },
     "execution_count": 6,
     "metadata": {},
     "output_type": "execute_result"
    }
   ],
   "source": [
    "first_dog = Dog('Fido', 'brown', 'woof!')\n",
    "print(first_dog.name)\n",
    "print(first_dog.color)\n",
    "first_dog.bark()"
   ]
  },
  {
   "cell_type": "code",
   "execution_count": 7,
   "id": "8ecc7ba8",
   "metadata": {},
   "outputs": [
    {
     "name": "stdout",
     "output_type": "stream",
     "text": [
      "Lady\n",
      "blonde\n"
     ]
    },
    {
     "data": {
      "text/plain": [
       "'arf! arf!'"
      ]
     },
     "execution_count": 7,
     "metadata": {},
     "output_type": "execute_result"
    }
   ],
   "source": [
    "second_dog = Dog('Lady', 'blonde', 'arf!')\n",
    "print(second_dog.name)\n",
    "print(second_dog.color)\n",
    "second_dog.bark()"
   ]
  },
  {
   "cell_type": "code",
   "execution_count": null,
   "id": "4f576103",
   "metadata": {},
   "outputs": [],
   "source": []
  }
 ],
 "metadata": {
  "kernelspec": {
   "display_name": "PythonData3.7",
   "language": "python",
   "name": "pythondata3.7"
  },
  "language_info": {
   "codemirror_mode": {
    "name": "ipython",
    "version": 3
   },
   "file_extension": ".py",
   "mimetype": "text/x-python",
   "name": "python",
   "nbconvert_exporter": "python",
   "pygments_lexer": "ipython3",
   "version": "3.7.10"
  }
 },
 "nbformat": 4,
 "nbformat_minor": 5
}
